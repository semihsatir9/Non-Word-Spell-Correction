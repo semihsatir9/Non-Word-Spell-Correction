{
 "cells": [
  {
   "cell_type": "code",
   "execution_count": 3,
   "id": "fea0cd02",
   "metadata": {
    "scrolled": false
   },
   "outputs": [
    {
     "name": "stdout",
     "output_type": "stream",
     "text": [
      "Enter your text: granmama bussin\n",
      "Started checking the words. This process might take a while...\n",
      "The word granmama is wrong. These are the alternatives.\n",
      "['grandma']\n",
      "Please write the alternative that you want:grandma\n",
      "The word has been updated.\n",
      "The word bussin is wrong. These are the alternatives.\n",
      "['Austin', 'Russian', 'Russia', 'buss', 'basin', \"bustin'\", 'Poussin', 'busses', 'bumpin', 'fussing']\n",
      "Please write the alternative that you want:bustin'\n",
      "The word has been updated.\n",
      "Correction completed. Old sentence:\n",
      "granmama bussin\n",
      "New sentence:\n",
      "grandma bustin' \n",
      "Amount of words altered: 2\n",
      "The process has finished.\n"
     ]
    }
   ],
   "source": [
    "#Adding the libraries\n",
    "import nltk\n",
    "from nltk.tokenize import word_tokenize\n",
    "from nltk.corpus import brown\n",
    "from nltk.metrics import edit_distance\n",
    "\n",
    "\n",
    "#Get the string value from the user\n",
    "word = input(\"Enter your text: \")\n",
    "fixedsentence = \"\"\n",
    "amountofupdates = 0;\n",
    "\n",
    "#Tokenize the sentence for altering each word\n",
    "tokenized = word_tokenize(word)\n",
    "\n",
    "\n",
    "#Start working on the sentence\n",
    "print(\"Started checking the words. Every wrong word takes about 40 seconds to be checked and presented to the user.\")\n",
    "\n",
    "\n",
    "#In a for loop, check every word of the sentence\n",
    "for x in tokenized:\n",
    "    foundwords = []\n",
    "    #If the sentence is in our corpus, that means the word is correct. Skip to the next one\n",
    "    if x in brown.words():\n",
    "        print(\"No error found in word \" + x + \". Searching the next one.\")\n",
    "        fixedsentence += x;\n",
    "        fixedsentence += \" \";\n",
    "    #If the sentence is not in our corpus, that means that the word is incorrect. Check the corpus with edit distance which\n",
    "    #is less than 2 and show it to the user.\n",
    "    else:\n",
    "        for y in brown.words():\n",
    "            if ((edit_distance(y,x) <= 2) and (not(y in foundwords))):\n",
    "                foundwords.append(y)\n",
    "        if len(foundwords) == 0:\n",
    "            print(\"The word is wrong but there are no alternatives available. It will be passed as correct.\")\n",
    "        else:\n",
    "            print(\"The word \" + x + \" is wrong. These are the alternatives.\")\n",
    "            print(foundwords)\n",
    "        #After showing the alternatives, let the user write the word that he initially wanted to type. If there is a typo\n",
    "        #let the user write again.\n",
    "        while True:\n",
    "            chosenword = input(\"Please write the alternative that you want:\")\n",
    "            if chosenword in foundwords:\n",
    "                print(\"The word has been updated.\")\n",
    "                fixedsentence += chosenword;\n",
    "                fixedsentence += \" \";\n",
    "                amountofupdates += 1;\n",
    "                break;\n",
    "            else:\n",
    "                print(\"Wrong word.\")\n",
    "        #After the confirmation, update the sentence by adding the new written word.\n",
    "        \n",
    "#Loop finishes. Show the old sentence and the new one for comparison.\n",
    "if amountofupdates == 0:\n",
    "    print(\"No changes have been made to the sentence.\")\n",
    "    print(word)\n",
    "else:\n",
    "    print(\"Correction completed. Old sentence:\")\n",
    "    print(word)\n",
    "    print(\"New sentence:\")\n",
    "    print(fixedsentence)\n",
    "    print(\"Amount of words altered: \" + str(amountofupdates))\n",
    "\n",
    "print(\"The process has finished.\")\n",
    "\n",
    "\n"
   ]
  },
  {
   "cell_type": "code",
   "execution_count": null,
   "id": "069cb4ef",
   "metadata": {},
   "outputs": [],
   "source": []
  }
 ],
 "metadata": {
  "kernelspec": {
   "display_name": "Python 3 (ipykernel)",
   "language": "python",
   "name": "python3"
  },
  "language_info": {
   "codemirror_mode": {
    "name": "ipython",
    "version": 3
   },
   "file_extension": ".py",
   "mimetype": "text/x-python",
   "name": "python",
   "nbconvert_exporter": "python",
   "pygments_lexer": "ipython3",
   "version": "3.9.12"
  }
 },
 "nbformat": 4,
 "nbformat_minor": 5
}
